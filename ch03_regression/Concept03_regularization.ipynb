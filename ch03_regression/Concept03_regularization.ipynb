{
 "cells": [
  {
   "cell_type": "markdown",
   "metadata": {},
   "source": [
    "# Ch `03`: Concept `03`"
   ]
  },
  {
   "cell_type": "markdown",
   "metadata": {},
   "source": [
    "## Regularization"
   ]
  },
  {
   "cell_type": "markdown",
   "metadata": {},
   "source": [
    "Import the relevant libraries and initialize the hyper-parameters"
   ]
  },
  {
   "cell_type": "code",
   "execution_count": 1,
   "metadata": {
    "collapsed": true
   },
   "outputs": [],
   "source": [
    "import tensorflow as tf\n",
    "import numpy as np\n",
    "import matplotlib.pyplot as plt\n",
    "\n",
    "np.random.seed(100)\n",
    "\n",
    "learning_rate = 0.001\n",
    "training_epochs = 1000\n",
    "reg_lambda = 0."
   ]
  },
  {
   "cell_type": "markdown",
   "metadata": {},
   "source": [
    "create a helper method to split the dataset"
   ]
  },
  {
   "cell_type": "code",
   "execution_count": 2,
   "metadata": {
    "collapsed": true
   },
   "outputs": [],
   "source": [
    "def split_dataset(x_dataset, y_dataset, ratio):\n",
    "    arr = np.arange(x_dataset.size)\n",
    "    np.random.shuffle(arr)\n",
    "    num_train = int(ratio * x_dataset.size)\n",
    "    x_train = x_dataset[arr[0:num_train]]\n",
    "    y_train = y_dataset[arr[0:num_train]]\n",
    "    x_test = x_dataset[arr[num_train:x_dataset.size]]\n",
    "    y_test = y_dataset[arr[num_train:x_dataset.size]]\n",
    "    return x_train, x_test, y_train, y_test"
   ]
  },
  {
   "cell_type": "markdown",
   "metadata": {},
   "source": [
    "Create a fake dataset. y = x^2"
   ]
  },
  {
   "cell_type": "code",
   "execution_count": 3,
   "metadata": {
    "collapsed": true
   },
   "outputs": [],
   "source": [
    "x_dataset = np.linspace(-1, 1, 100)\n",
    "\n",
    "num_coeffs = 9\n",
    "y_dataset_params = [0.] * num_coeffs\n",
    "y_dataset_params[2] = 1\n",
    "y_dataset = 0\n",
    "for i in range(num_coeffs):\n",
    "    y_dataset += y_dataset_params[i] * np.power(x_dataset, i)\n",
    "y_dataset += np.random.randn(*x_dataset.shape) * 0.3"
   ]
  },
  {
   "cell_type": "markdown",
   "metadata": {},
   "source": [
    "Split the dataset into 70% training and testing 30%"
   ]
  },
  {
   "cell_type": "code",
   "execution_count": 4,
   "metadata": {
    "collapsed": false
   },
   "outputs": [],
   "source": [
    "(x_train, x_test, y_train, y_test) = split_dataset(x_dataset, y_dataset, 0.7)\n"
   ]
  },
  {
   "cell_type": "markdown",
   "metadata": {},
   "source": [
    "Set up the input/output placeholders"
   ]
  },
  {
   "cell_type": "code",
   "execution_count": 5,
   "metadata": {
    "collapsed": true
   },
   "outputs": [],
   "source": [
    "X = tf.placeholder(\"float\")\n",
    "Y = tf.placeholder(\"float\")"
   ]
  },
  {
   "cell_type": "markdown",
   "metadata": {},
   "source": [
    "Define our model"
   ]
  },
  {
   "cell_type": "code",
   "execution_count": 6,
   "metadata": {
    "collapsed": true
   },
   "outputs": [],
   "source": [
    "def model(X, w):\n",
    "    terms = []\n",
    "    for i in range(num_coeffs):\n",
    "        term = tf.mul(w[i], tf.pow(X, i))\n",
    "        terms.append(term)\n",
    "    return tf.add_n(terms)"
   ]
  },
  {
   "cell_type": "markdown",
   "metadata": {},
   "source": [
    "Define the regularized cost function"
   ]
  },
  {
   "cell_type": "code",
   "execution_count": 7,
   "metadata": {
    "collapsed": true
   },
   "outputs": [],
   "source": [
    "w = tf.Variable([0.] * num_coeffs, name=\"parameters\")\n",
    "y_model = model(X, w)\n",
    "cost = tf.div(tf.add(tf.reduce_sum(tf.square(Y-y_model)),\n",
    "                     tf.mul(reg_lambda, tf.reduce_sum(tf.square(w)))),\n",
    "              2*x_train.size)\n",
    "train_op = tf.train.GradientDescentOptimizer(learning_rate).minimize(cost)"
   ]
  },
  {
   "cell_type": "markdown",
   "metadata": {},
   "source": [
    "Set up the session"
   ]
  },
  {
   "cell_type": "code",
   "execution_count": 8,
   "metadata": {
    "collapsed": true
   },
   "outputs": [],
   "source": [
    "sess = tf.Session()\n",
    "init = tf.initialize_all_variables()\n",
    "sess.run(init)"
   ]
  },
  {
   "cell_type": "markdown",
   "metadata": {},
   "source": [
    "Try out various regularization parameters "
   ]
  },
  {
   "cell_type": "code",
   "execution_count": null,
   "metadata": {
    "collapsed": false
   },
   "outputs": [
    {
     "name": "stdout",
     "output_type": "stream",
     "text": [
      "('reg lambda', 0.0)\n",
      "('final cost', 0.032030996)\n",
      "('reg lambda', 0.010101010101010102)\n",
      "('final cost', 0.028902497)\n",
      "('reg lambda', 0.020202020202020204)\n",
      "('final cost', 0.027128801)\n",
      "('reg lambda', 0.030303030303030304)\n",
      "('final cost', 0.025800284)\n",
      "('reg lambda', 0.040404040404040407)\n",
      "('final cost', 0.024812995)\n",
      "('reg lambda', 0.050505050505050511)\n",
      "('final cost', 0.02407708)\n",
      "('reg lambda', 0.060606060606060608)\n",
      "('final cost', 0.023520416)\n",
      "('reg lambda', 0.070707070707070718)\n",
      "('final cost', 0.023091596)\n",
      "('reg lambda', 0.080808080808080815)\n",
      "('final cost', 0.022754973)\n",
      "('reg lambda', 0.090909090909090912)\n",
      "('final cost', 0.02248578)\n",
      "('reg lambda', 0.10101010101010102)\n",
      "('final cost', 0.022266606)\n",
      "('reg lambda', 0.11111111111111112)\n",
      "('final cost', 0.022085056)\n",
      "('reg lambda', 0.12121212121212122)\n",
      "('final cost', 0.021932183)\n",
      "('reg lambda', 0.13131313131313133)\n",
      "('final cost', 0.021801468)\n",
      "('reg lambda', 0.14141414141414144)\n",
      "('final cost', 0.021688091)\n",
      "('reg lambda', 0.15151515151515152)\n",
      "('final cost', 0.021588458)\n",
      "('reg lambda', 0.16161616161616163)\n",
      "('final cost', 0.021499878)\n",
      "('reg lambda', 0.17171717171717174)\n",
      "('final cost', 0.021420266)\n",
      "('reg lambda', 0.18181818181818182)\n",
      "('final cost', 0.0213481)\n",
      "('reg lambda', 0.19191919191919193)\n",
      "('final cost', 0.021282142)\n",
      "('reg lambda', 0.20202020202020204)\n",
      "('final cost', 0.021221504)\n",
      "('reg lambda', 0.21212121212121213)\n",
      "('final cost', 0.021165388)\n",
      "('reg lambda', 0.22222222222222224)\n",
      "('final cost', 0.021113267)\n",
      "('reg lambda', 0.23232323232323235)\n",
      "('final cost', 0.021064682)\n",
      "('reg lambda', 0.24242424242424243)\n",
      "('final cost', 0.021019241)\n",
      "('reg lambda', 0.25252525252525254)\n",
      "('final cost', 0.020976664)\n",
      "('reg lambda', 0.26262626262626265)\n",
      "('final cost', 0.020936726)\n",
      "('reg lambda', 0.27272727272727276)\n",
      "('final cost', 0.020899175)\n",
      "('reg lambda', 0.28282828282828287)\n",
      "('final cost', 0.020863945)\n",
      "('reg lambda', 0.29292929292929293)\n",
      "('final cost', 0.020830829)\n",
      "('reg lambda', 0.30303030303030304)\n",
      "('final cost', 0.020799706)\n",
      "('reg lambda', 0.31313131313131315)\n",
      "('final cost', 0.020770466)\n",
      "('reg lambda', 0.32323232323232326)\n",
      "('final cost', 0.020743057)\n",
      "('reg lambda', 0.33333333333333337)\n",
      "('final cost', 0.020717327)\n",
      "('reg lambda', 0.34343434343434348)\n",
      "('final cost', 0.020693347)\n",
      "('reg lambda', 0.35353535353535359)\n",
      "('final cost', 0.020670896)\n",
      "('reg lambda', 0.36363636363636365)\n",
      "('final cost', 0.020649901)\n",
      "('reg lambda', 0.37373737373737376)\n",
      "('final cost', 0.020630507)\n",
      "('reg lambda', 0.38383838383838387)\n",
      "('final cost', 0.020612456)\n",
      "('reg lambda', 0.39393939393939398)\n",
      "('final cost', 0.020595714)\n",
      "('reg lambda', 0.40404040404040409)\n",
      "('final cost', 0.020580363)\n",
      "('reg lambda', 0.4141414141414142)\n",
      "('final cost', 0.020566262)\n",
      "('reg lambda', 0.42424242424242425)\n",
      "('final cost', 0.02055335)\n",
      "('reg lambda', 0.43434343434343436)\n",
      "('final cost', 0.020541588)\n",
      "('reg lambda', 0.44444444444444448)\n",
      "('final cost', 0.020531092)\n",
      "('reg lambda', 0.45454545454545459)\n",
      "('final cost', 0.020521631)\n",
      "('reg lambda', 0.4646464646464647)\n",
      "('final cost', 0.020513181)\n"
     ]
    }
   ],
   "source": [
    "for reg_lambda in np.linspace(0,1,100):\n",
    "    for epoch in range(training_epochs):\n",
    "        sess.run(train_op, feed_dict={X: x_train, Y: y_train})\n",
    "    final_cost = sess.run(cost, feed_dict={X: x_test, Y:y_test})\n",
    "    print('reg lambda', reg_lambda)\n",
    "    print('final cost', final_cost)"
   ]
  },
  {
   "cell_type": "markdown",
   "metadata": {},
   "source": [
    "Close the session"
   ]
  },
  {
   "cell_type": "code",
   "execution_count": null,
   "metadata": {
    "collapsed": true
   },
   "outputs": [],
   "source": [
    "sess.close()"
   ]
  }
 ],
 "metadata": {
  "kernelspec": {
   "display_name": "Python 2",
   "language": "python",
   "name": "python2"
  },
  "language_info": {
   "codemirror_mode": {
    "name": "ipython",
    "version": 2
   },
   "file_extension": ".py",
   "mimetype": "text/x-python",
   "name": "python",
   "nbconvert_exporter": "python",
   "pygments_lexer": "ipython2",
   "version": "2.7.12"
  }
 },
 "nbformat": 4,
 "nbformat_minor": 0
}
