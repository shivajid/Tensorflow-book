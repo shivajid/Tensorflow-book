{
 "cells": [
  {
   "cell_type": "markdown",
   "metadata": {},
   "source": [
    "# Ch `02`: Concept `08`"
   ]
  },
  {
   "cell_type": "markdown",
   "metadata": {},
   "source": [
    "## Using TensorBoard"
   ]
  },
  {
   "cell_type": "markdown",
   "metadata": {},
   "source": [
    "TensorBoard is a great way to visualize what's happening behind the code. \n",
    "\n",
    "In this example, we'll loop through some numbers to improve our guess of the average value. Then we can visualize the results on TensorBoard. \n",
    "\n",
    "Let's just set ourselves up with some data to work with:"
   ]
  },
  {
   "cell_type": "code",
   "execution_count": 2,
   "metadata": {
    "collapsed": false
   },
   "outputs": [],
   "source": [
    "import tensorflow as tf\n",
    "import numpy as np\n",
    "\n",
    "raw_data = np.random.normal(10, 1, 100)"
   ]
  },
  {
   "cell_type": "markdown",
   "metadata": {},
   "source": [
    "The moving average is defined as follows:"
   ]
  },
  {
   "cell_type": "code",
   "execution_count": 3,
   "metadata": {
    "collapsed": true
   },
   "outputs": [],
   "source": [
    "alpha = tf.constant(0.05)\n",
    "curr_value = tf.placeholder(tf.float32)\n",
    "prev_avg = tf.Variable(0.)\n",
    "\n",
    "update_avg = alpha * curr_value + (1 - alpha) * prev_avg"
   ]
  },
  {
   "cell_type": "markdown",
   "metadata": {},
   "source": [
    "Here's what we care to visualize:"
   ]
  },
  {
   "cell_type": "code",
   "execution_count": 4,
   "metadata": {
    "collapsed": true
   },
   "outputs": [],
   "source": [
    "avg_hist = tf.scalar_summary(\"running average\", update_avg)\n",
    "value_hist = tf.scalar_summary(\"incoming values\", curr_value)\n",
    "\n",
    "merged = tf.merge_all_summaries()\n",
    "writer = tf.train.SummaryWriter(\"./logs\")"
   ]
  },
  {
   "cell_type": "markdown",
   "metadata": {},
   "source": [
    "Time to compute the moving averages. We'll also run the `merged` op to track how the values change:"
   ]
  },
  {
   "cell_type": "code",
   "execution_count": 5,
   "metadata": {
    "collapsed": false
   },
   "outputs": [
    {
     "name": "stdout",
     "output_type": "stream",
     "text": [
      "(9.9219328082194433, 0.49609667)\n",
      "(10.861675551185391, 1.0143757)\n",
      "(9.9106617779805415, 1.45919)\n",
      "(9.5849268381192587, 1.8654768)\n",
      "(11.00720280405182, 2.3225632)\n",
      "(10.612008840443297, 2.7370355)\n",
      "(9.9125171356090611, 3.0958097)\n",
      "(10.301745545416653, 3.4561064)\n",
      "(9.0511758379087368, 3.7358599)\n",
      "(10.942890307806293, 4.0962114)\n",
      "(10.015208512849741, 4.3921614)\n",
      "(9.3332763467657074, 4.6392169)\n",
      "(10.962021001932852, 4.9553571)\n",
      "(9.0722027682605031, 5.1611991)\n",
      "(10.050949472375269, 5.4056864)\n",
      "(10.831545986616975, 5.6769795)\n",
      "(8.9709517646419936, 5.8416777)\n",
      "(8.3373492656893404, 5.9664612)\n",
      "(9.1772602301158415, 6.1270008)\n",
      "(10.38990880186355, 6.3401461)\n",
      "(8.808227775219283, 6.4635501)\n",
      "(10.119509135452704, 6.6463475)\n",
      "(10.12893016093162, 6.8204765)\n",
      "(11.653614487744555, 7.0621333)\n",
      "(8.6165361752502871, 7.139853)\n",
      "(7.3070414531630119, 7.1482124)\n",
      "(10.24150784730451, 7.3028769)\n",
      "(9.2929367488494456, 7.40238)\n",
      "(9.3953573027948245, 7.5020289)\n",
      "(10.16671191219559, 7.635263)\n",
      "(10.481513911689815, 7.777575)\n",
      "(8.0437101254460153, 7.7908816)\n",
      "(8.7769836489562927, 7.8401866)\n",
      "(9.8227328223083337, 7.9393139)\n",
      "(8.8020632506507184, 7.982451)\n",
      "(8.7889073987865807, 8.0227737)\n",
      "(10.15422875259706, 8.1293468)\n",
      "(12.651362475259415, 8.3554478)\n",
      "(9.2913568854657775, 8.4022436)\n",
      "(10.412863798797048, 8.5027742)\n",
      "(10.371544529285533, 8.5962133)\n",
      "(12.563423435493572, 8.7945738)\n",
      "(9.4860079112860909, 8.8291454)\n",
      "(9.9303262258577494, 8.8842039)\n",
      "(10.414121138287168, 8.9607)\n",
      "(9.5808883451271338, 8.9917088)\n",
      "(10.072867620470879, 9.0457659)\n",
      "(11.553245521318047, 9.1711397)\n",
      "(8.6044959537034504, 9.142807)\n",
      "(9.4322434559683934, 9.1572781)\n",
      "(10.990419701720093, 9.2489357)\n",
      "(10.216710072121764, 9.2973242)\n",
      "(9.0131111108592528, 9.2831135)\n",
      "(10.287105453794908, 9.333313)\n",
      "(10.748689516026573, 9.4040813)\n",
      "(12.224440745681218, 9.5450993)\n",
      "(10.300900427008118, 9.5828896)\n",
      "(9.907324401745079, 9.5991106)\n",
      "(9.4367912658650308, 9.5909948)\n",
      "(9.4759772803599276, 9.5852442)\n",
      "(10.311548223446287, 9.6215591)\n",
      "(10.639115852392747, 9.6724367)\n",
      "(9.7615621071829981, 9.6768932)\n",
      "(9.6928206643783916, 9.6776896)\n",
      "(10.455708947515985, 9.7165899)\n",
      "(11.376151790081369, 9.7995682)\n",
      "(9.4929577187259486, 9.7842369)\n",
      "(10.626763765482758, 9.8263626)\n",
      "(10.064452981816418, 9.8382664)\n",
      "(10.716562608289381, 9.8821812)\n",
      "(10.248293233436049, 9.9004869)\n",
      "(11.132245844706093, 9.9620743)\n",
      "(10.08952559223532, 9.9684467)\n",
      "(9.7647245207736528, 9.9582605)\n",
      "(10.913137813209302, 10.006004)\n",
      "(9.5252081608248549, 9.9819641)\n",
      "(11.467667394565416, 10.056249)\n",
      "(7.9967455606815143, 9.9532738)\n",
      "(8.6061314167812917, 9.8859167)\n",
      "(10.572490966550214, 9.9202452)\n",
      "(10.81286729477598, 9.9648762)\n",
      "(10.257291348548044, 9.979496)\n",
      "(8.7181484758406054, 9.9164286)\n",
      "(9.2027202255623468, 9.880743)\n",
      "(9.7831564586312201, 9.8758631)\n",
      "(10.421150461115603, 9.9031267)\n",
      "(10.978998086154267, 9.9569206)\n",
      "(7.6687364827055511, 9.8425112)\n",
      "(8.9482739188491998, 9.7977991)\n",
      "(9.54681335244425, 9.7852497)\n",
      "(8.88792515708111, 9.7403831)\n",
      "(9.6287778090333855, 9.7348022)\n",
      "(10.325869408477462, 9.7643557)\n",
      "(9.0225220025034396, 9.7272635)\n",
      "(10.891011102607536, 9.7854509)\n",
      "(8.5599147797649415, 9.7241735)\n",
      "(9.2050931655996884, 9.6982193)\n",
      "(8.8681245615622721, 9.6567144)\n",
      "(10.440651113767204, 9.6959114)\n",
      "(9.1913661767896464, 9.6706839)\n"
     ]
    }
   ],
   "source": [
    "init = tf.initialize_all_variables()\n",
    "\n",
    "with tf.Session() as sess:\n",
    "    sess.run(init)\n",
    "    for i in range(len(raw_data)):\n",
    "        summary_str, curr_avg = sess.run([merged, update_avg], feed_dict={curr_value: raw_data[i]})\n",
    "        sess.run(tf.assign(prev_avg, curr_avg))\n",
    "        print(raw_data[i], curr_avg)\n",
    "        writer.add_summary(summary_str, i)"
   ]
  },
  {
   "cell_type": "markdown",
   "metadata": {},
   "source": [
    "Check out the visualization by running TensorBoard from the terminal:\n",
    "\n",
    "    $ tensorboard --logdir=path/to/logs"
   ]
  }
 ],
 "metadata": {
  "kernelspec": {
   "display_name": "Python 2",
   "language": "python",
   "name": "python2"
  },
  "language_info": {
   "codemirror_mode": {
    "name": "ipython",
    "version": 2
   },
   "file_extension": ".py",
   "mimetype": "text/x-python",
   "name": "python",
   "nbconvert_exporter": "python",
   "pygments_lexer": "ipython2",
   "version": "2.7.12"
  }
 },
 "nbformat": 4,
 "nbformat_minor": 0
}
